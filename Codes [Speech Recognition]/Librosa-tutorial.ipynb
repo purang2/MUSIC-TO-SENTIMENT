{
 "metadata": {
  "language_info": {
   "codemirror_mode": {
    "name": "ipython",
    "version": 3
   },
   "file_extension": ".py",
   "mimetype": "text/x-python",
   "name": "python",
   "nbconvert_exporter": "python",
   "pygments_lexer": "ipython3",
   "version": "3.9.4"
  },
  "orig_nbformat": 2,
  "kernelspec": {
   "name": "python394jvsc74a57bd0d708b92321763157f37de519d81887a0eb2dbc14183f20cda4a0707ff0a2fa51",
   "display_name": "Python 3.9.4 64-bit ('my_nlp_env': conda)"
  }
 },
 "nbformat": 4,
 "nbformat_minor": 2,
 "cells": [
  {
   "cell_type": "code",
   "execution_count": 1,
   "metadata": {},
   "outputs": [],
   "source": [
    "import librosa "
   ]
  },
  {
   "cell_type": "code",
   "execution_count": 2,
   "metadata": {},
   "outputs": [
    {
     "output_type": "stream",
     "name": "stderr",
     "text": [
      "Downloading file 'Kevin_MacLeod_-_P_I_Tchaikovsky_Dance_of_the_Sugar_Plum_Fairy.ogg' from 'https://librosa.org/data/audio/Kevin_MacLeod_-_P_I_Tchaikovsky_Dance_of_the_Sugar_Plum_Fairy.ogg' to 'C:\\Users\\PC\\AppData\\Local\\librosa\\librosa\\Cache'.\n"
     ]
    }
   ],
   "source": [
    "filename = librosa.example('nutcracker')"
   ]
  },
  {
   "cell_type": "code",
   "execution_count": 3,
   "metadata": {},
   "outputs": [],
   "source": [
    "# Load the audio as a waveform y\n",
    "# Store the sampling rate as sr \n",
    "\n",
    "y, sr = librosa.load(filename)\n"
   ]
  },
  {
   "cell_type": "code",
   "execution_count": 5,
   "metadata": {},
   "outputs": [
    {
     "output_type": "stream",
     "name": "stdout",
     "text": [
      "Estimated tempo: 107.67 beats per minute\n"
     ]
    }
   ],
   "source": [
    "#Run the default beat tracker \n",
    "\n",
    "tempo, beat_frames = librosa.beat.beat_track(y=y,sr=sr)\n",
    "\n",
    "print('Estimated tempo: {:.2f} beats per minute'.format(tempo))"
   ]
  },
  {
   "cell_type": "code",
   "execution_count": 6,
   "metadata": {},
   "outputs": [],
   "source": [
    "# 4. Convert the frame indices of beat events into timestamps \n",
    "\n",
    "beat_times = librosa.frames_to_time(beat_frames, sr=sr)"
   ]
  },
  {
   "cell_type": "code",
   "execution_count": 7,
   "metadata": {},
   "outputs": [
    {
     "output_type": "execute_result",
     "data": {
      "text/plain": [
       "array([  1.18421769,   1.71827664,   2.32199546,   2.87927438,\n",
       "         3.45977324,   4.01705215,   4.59755102,   5.13160998,\n",
       "         5.7353288 ,   6.29260771,   6.84988662,   7.40716553,\n",
       "         7.9876644 ,   8.54494331,   9.12544218,   9.65950113,\n",
       "        10.21678005,  10.72761905,  11.28489796,  11.79573696,\n",
       "        12.32979592,  12.86385488,  13.42113379,  13.95519274,\n",
       "        14.4892517 ,  15.02331066,  15.55736961,  16.09142857,\n",
       "        16.62548753,  17.15954649,  17.69360544,  18.25088435,\n",
       "        18.80816327,  19.31900227,  19.87628118,  20.38712018,\n",
       "        20.92117914,  21.4552381 ,  21.98929705,  22.52335601,\n",
       "        23.05741497,  23.59147392,  24.12553288,  24.65959184,\n",
       "        25.19365079,  25.72770975,  26.26176871,  26.81904762,\n",
       "        27.35310658,  27.88716553,  28.44444444,  29.00172336,\n",
       "        29.55900227,  30.11628118,  30.67356009,  31.20761905,\n",
       "        31.78811791,  32.34539683,  32.85623583,  33.36707483,\n",
       "        33.90113379,  34.43519274,  34.94603175,  35.45687075,\n",
       "        35.99092971,  36.52498866,  37.03582766,  37.56988662,\n",
       "        38.12716553,  38.66122449,  39.2185034 ,  39.75256236,\n",
       "        40.30984127,  40.84390023,  41.40117914,  41.9352381 ,\n",
       "        42.46929705,  43.02657596,  43.56063492,  44.11791383,\n",
       "        44.67519274,  45.2092517 ,  45.76653061,  46.30058957,\n",
       "        46.85786848,  47.41514739,  47.94920635,  48.48326531,\n",
       "        48.99410431,  49.50494331,  50.03900227,  50.54984127,\n",
       "        51.08390023,  51.61795918,  52.10557823,  52.61641723,\n",
       "        53.17369615,  53.7077551 ,  54.24181406,  54.77587302,\n",
       "        55.28671202,  55.82077098,  56.35482993,  56.91210884,\n",
       "        57.4461678 ,  58.00344671,  58.56072562,  59.09478458,\n",
       "        59.62884354,  60.18612245,  60.72018141,  61.27746032,\n",
       "        61.81151927,  62.32235828,  62.83319728,  63.36725624,\n",
       "        63.90131519,  64.43537415,  64.94621315,  65.45705215,\n",
       "        65.99111111,  66.50195011,  67.03600907,  67.57006803,\n",
       "        68.10412698,  68.63818594,  69.1722449 ,  69.72952381,\n",
       "        70.28680272,  70.84408163,  71.40136054,  71.98185941,\n",
       "        72.56235828,  73.14285714,  73.70013605,  74.28063492,\n",
       "        74.83791383,  75.37197279,  75.90603175,  76.50975057,\n",
       "        77.04380952,  77.62430839,  78.1815873 ,  78.73886621,\n",
       "        79.29614512,  79.85342404,  80.38748299,  80.92154195,\n",
       "        81.47882086,  82.05931973,  82.66303855,  83.26675737,\n",
       "        83.87047619,  84.45097506,  85.07791383,  85.6584127 ,\n",
       "        86.26213152,  86.84263039,  87.44634921,  88.02684807,\n",
       "        88.63056689,  89.21106576,  89.76834467,  90.34884354,\n",
       "        90.9293424 ,  91.48662132,  92.06712018,  92.64761905,\n",
       "        93.20489796,  93.76217687,  94.34267574,  94.89995465,\n",
       "        95.48045351,  96.03773243,  96.59501134,  97.15229025,\n",
       "        97.70956916,  98.26684807,  98.82412698,  99.3814059 ,\n",
       "        99.93868481, 100.47274376, 101.05324263, 101.58730159,\n",
       "       102.16780045, 102.70185941, 103.25913832, 103.81641723,\n",
       "       104.37369615, 104.93097506, 105.48825397, 106.04553288,\n",
       "       106.60281179, 107.1600907 , 107.71736961, 108.25142857,\n",
       "       108.80870748, 109.36598639, 109.92326531, 110.48054422,\n",
       "       111.03782313, 111.59510204, 112.15238095, 112.70965986,\n",
       "       113.24371882, 113.80099773, 114.3814966 , 114.93877551,\n",
       "       115.47283447, 116.03011338, 116.58739229, 117.1446712 ])"
      ]
     },
     "metadata": {},
     "execution_count": 7
    }
   ],
   "source": [
    "beat_times"
   ]
  },
  {
   "cell_type": "code",
   "execution_count": 9,
   "metadata": {},
   "outputs": [],
   "source": [
    "import numpy as np \n",
    "import librosa \n",
    "\n",
    "y, sr = librosa.load(librosa.ex('nutcracker'))\n",
    "\n",
    "#Set the hop length; at 22050 Hz, 512 samples ~= 23 ms \n",
    "hop_length = 512 \n",
    "\n",
    "#Separate harmonics and percussives into two waveforms [hpss : harmonic-percussive separation]\n",
    "\n",
    "y_harmonic, y_percussive = librosa.effects.hpss(y)\n",
    "\n",
    "#Beat track on the percussive signal\n",
    "tempo, beat_frames = librosa.beat.beat_track(y=y_percussive, sr=sr)\n",
    "\n",
    "\n"
   ]
  },
  {
   "cell_type": "code",
   "execution_count": 10,
   "metadata": {},
   "outputs": [],
   "source": [
    "#Compute MFCC features from the raw signal \n",
    "# MFCC: Mel-frequency cepstral coefficients\n",
    "\n",
    "mfcc = librosa.feature.mfcc(y=y, sr=sr, hop_length=hop_length, n_mfcc=13)\n",
    "\n",
    "#And the first-order differences (delta features)\n",
    "mfcc_delta = librosa.feature.delta(mfcc)\n",
    "\n",
    "#Stack and synchronize between beat events \n",
    "#This time, we'll use the mean value (default) instead of median \n",
    "beat_mfcc_delta = librosa.util.sync(np.vstack([mfcc,mfcc_delta]), beat_frames)\n",
    "\n",
    "#Compute chroma features from the harmonic signal \n",
    "chromagram = librosa.feature.chroma_cqt(y=y_harmonic,\n",
    "                                        sr=sr)"
   ]
  },
  {
   "cell_type": "code",
   "execution_count": 12,
   "metadata": {},
   "outputs": [],
   "source": [
    "#Aggregate chroma features between beat events\n",
    "#We'll use the median value of each feature between beat frames \n",
    "\n",
    "beat_chroma = librosa.util.sync(chromagram,beat_frames, aggregate=np.median)\n",
    "\n",
    "#Finally, stack all beat-synchronous features together\n",
    "beat_features = np.vstack([beat_chroma, beat_mfcc_delta])"
   ]
  },
  {
   "cell_type": "code",
   "execution_count": null,
   "metadata": {},
   "outputs": [],
   "source": []
  }
 ]
}